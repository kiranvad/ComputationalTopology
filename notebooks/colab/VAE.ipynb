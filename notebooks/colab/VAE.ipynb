{
  "nbformat": 4,
  "nbformat_minor": 0,
  "metadata": {
    "colab": {
      "name": "VAE.ipynb",
      "provenance": [],
      "authorship_tag": "ABX9TyMQjHLBo1X4HnIb9LlHalSF",
      "include_colab_link": true
    },
    "kernelspec": {
      "name": "python3",
      "display_name": "Python 3"
    },
    "language_info": {
      "name": "python"
    },
    "widgets": {
      "application/vnd.jupyter.widget-state+json": {
        "2493e72ada2446b682816ea96eed0be5": {
          "model_module": "@jupyter-widgets/controls",
          "model_name": "HBoxModel",
          "model_module_version": "1.5.0",
          "state": {
            "_view_name": "HBoxView",
            "_dom_classes": [],
            "_model_name": "HBoxModel",
            "_view_module": "@jupyter-widgets/controls",
            "_model_module_version": "1.5.0",
            "_view_count": null,
            "_view_module_version": "1.5.0",
            "box_style": "",
            "layout": "IPY_MODEL_f808831f5cb4455ea2789bf67c185300",
            "_model_module": "@jupyter-widgets/controls",
            "children": [
              "IPY_MODEL_48d52a7d51a94808a3d4a524f61e1fef",
              "IPY_MODEL_a843a866c5bf49298b0f3f6bf7501b3c",
              "IPY_MODEL_11ca7a8df8594ee184584217303e20f9"
            ]
          }
        },
        "f808831f5cb4455ea2789bf67c185300": {
          "model_module": "@jupyter-widgets/base",
          "model_name": "LayoutModel",
          "model_module_version": "1.2.0",
          "state": {
            "_view_name": "LayoutView",
            "grid_template_rows": null,
            "right": null,
            "justify_content": null,
            "_view_module": "@jupyter-widgets/base",
            "overflow": null,
            "_model_module_version": "1.2.0",
            "_view_count": null,
            "flex_flow": null,
            "width": null,
            "min_width": null,
            "border": null,
            "align_items": null,
            "bottom": null,
            "_model_module": "@jupyter-widgets/base",
            "top": null,
            "grid_column": null,
            "overflow_y": null,
            "overflow_x": null,
            "grid_auto_flow": null,
            "grid_area": null,
            "grid_template_columns": null,
            "flex": null,
            "_model_name": "LayoutModel",
            "justify_items": null,
            "grid_row": null,
            "max_height": null,
            "align_content": null,
            "visibility": null,
            "align_self": null,
            "height": null,
            "min_height": null,
            "padding": null,
            "grid_auto_rows": null,
            "grid_gap": null,
            "max_width": null,
            "order": null,
            "_view_module_version": "1.2.0",
            "grid_template_areas": null,
            "object_position": null,
            "object_fit": null,
            "grid_auto_columns": null,
            "margin": null,
            "display": null,
            "left": null
          }
        },
        "48d52a7d51a94808a3d4a524f61e1fef": {
          "model_module": "@jupyter-widgets/controls",
          "model_name": "HTMLModel",
          "model_module_version": "1.5.0",
          "state": {
            "_view_name": "HTMLView",
            "style": "IPY_MODEL_d62218cbc8ac4ca6984b794ccf444005",
            "_dom_classes": [],
            "description": "",
            "_model_name": "HTMLModel",
            "placeholder": "​",
            "_view_module": "@jupyter-widgets/controls",
            "_model_module_version": "1.5.0",
            "value": "100%",
            "_view_count": null,
            "_view_module_version": "1.5.0",
            "description_tooltip": null,
            "_model_module": "@jupyter-widgets/controls",
            "layout": "IPY_MODEL_3966e852ec4d4b70973b31ffe04129f0"
          }
        },
        "a843a866c5bf49298b0f3f6bf7501b3c": {
          "model_module": "@jupyter-widgets/controls",
          "model_name": "FloatProgressModel",
          "model_module_version": "1.5.0",
          "state": {
            "_view_name": "ProgressView",
            "style": "IPY_MODEL_9f4aca8f425c422b8ff8ce9eb27d640b",
            "_dom_classes": [],
            "description": "",
            "_model_name": "FloatProgressModel",
            "bar_style": "success",
            "max": 16,
            "_view_module": "@jupyter-widgets/controls",
            "_model_module_version": "1.5.0",
            "value": 16,
            "_view_count": null,
            "_view_module_version": "1.5.0",
            "orientation": "horizontal",
            "min": 0,
            "description_tooltip": null,
            "_model_module": "@jupyter-widgets/controls",
            "layout": "IPY_MODEL_c2d248e25fc94bf79b5ec92fa17d101a"
          }
        },
        "11ca7a8df8594ee184584217303e20f9": {
          "model_module": "@jupyter-widgets/controls",
          "model_name": "HTMLModel",
          "model_module_version": "1.5.0",
          "state": {
            "_view_name": "HTMLView",
            "style": "IPY_MODEL_c80c54e0c3854ad29781a2b8770e46e2",
            "_dom_classes": [],
            "description": "",
            "_model_name": "HTMLModel",
            "placeholder": "​",
            "_view_module": "@jupyter-widgets/controls",
            "_model_module_version": "1.5.0",
            "value": " 16/16 [00:10&lt;00:00,  2.74it/s]",
            "_view_count": null,
            "_view_module_version": "1.5.0",
            "description_tooltip": null,
            "_model_module": "@jupyter-widgets/controls",
            "layout": "IPY_MODEL_5aa3270eed4c44748dcf0fdabd923011"
          }
        },
        "d62218cbc8ac4ca6984b794ccf444005": {
          "model_module": "@jupyter-widgets/controls",
          "model_name": "DescriptionStyleModel",
          "model_module_version": "1.5.0",
          "state": {
            "_view_name": "StyleView",
            "_model_name": "DescriptionStyleModel",
            "description_width": "",
            "_view_module": "@jupyter-widgets/base",
            "_model_module_version": "1.5.0",
            "_view_count": null,
            "_view_module_version": "1.2.0",
            "_model_module": "@jupyter-widgets/controls"
          }
        },
        "3966e852ec4d4b70973b31ffe04129f0": {
          "model_module": "@jupyter-widgets/base",
          "model_name": "LayoutModel",
          "model_module_version": "1.2.0",
          "state": {
            "_view_name": "LayoutView",
            "grid_template_rows": null,
            "right": null,
            "justify_content": null,
            "_view_module": "@jupyter-widgets/base",
            "overflow": null,
            "_model_module_version": "1.2.0",
            "_view_count": null,
            "flex_flow": null,
            "width": null,
            "min_width": null,
            "border": null,
            "align_items": null,
            "bottom": null,
            "_model_module": "@jupyter-widgets/base",
            "top": null,
            "grid_column": null,
            "overflow_y": null,
            "overflow_x": null,
            "grid_auto_flow": null,
            "grid_area": null,
            "grid_template_columns": null,
            "flex": null,
            "_model_name": "LayoutModel",
            "justify_items": null,
            "grid_row": null,
            "max_height": null,
            "align_content": null,
            "visibility": null,
            "align_self": null,
            "height": null,
            "min_height": null,
            "padding": null,
            "grid_auto_rows": null,
            "grid_gap": null,
            "max_width": null,
            "order": null,
            "_view_module_version": "1.2.0",
            "grid_template_areas": null,
            "object_position": null,
            "object_fit": null,
            "grid_auto_columns": null,
            "margin": null,
            "display": null,
            "left": null
          }
        },
        "9f4aca8f425c422b8ff8ce9eb27d640b": {
          "model_module": "@jupyter-widgets/controls",
          "model_name": "ProgressStyleModel",
          "model_module_version": "1.5.0",
          "state": {
            "_view_name": "StyleView",
            "_model_name": "ProgressStyleModel",
            "description_width": "",
            "_view_module": "@jupyter-widgets/base",
            "_model_module_version": "1.5.0",
            "_view_count": null,
            "_view_module_version": "1.2.0",
            "bar_color": null,
            "_model_module": "@jupyter-widgets/controls"
          }
        },
        "c2d248e25fc94bf79b5ec92fa17d101a": {
          "model_module": "@jupyter-widgets/base",
          "model_name": "LayoutModel",
          "model_module_version": "1.2.0",
          "state": {
            "_view_name": "LayoutView",
            "grid_template_rows": null,
            "right": null,
            "justify_content": null,
            "_view_module": "@jupyter-widgets/base",
            "overflow": null,
            "_model_module_version": "1.2.0",
            "_view_count": null,
            "flex_flow": null,
            "width": null,
            "min_width": null,
            "border": null,
            "align_items": null,
            "bottom": null,
            "_model_module": "@jupyter-widgets/base",
            "top": null,
            "grid_column": null,
            "overflow_y": null,
            "overflow_x": null,
            "grid_auto_flow": null,
            "grid_area": null,
            "grid_template_columns": null,
            "flex": null,
            "_model_name": "LayoutModel",
            "justify_items": null,
            "grid_row": null,
            "max_height": null,
            "align_content": null,
            "visibility": null,
            "align_self": null,
            "height": null,
            "min_height": null,
            "padding": null,
            "grid_auto_rows": null,
            "grid_gap": null,
            "max_width": null,
            "order": null,
            "_view_module_version": "1.2.0",
            "grid_template_areas": null,
            "object_position": null,
            "object_fit": null,
            "grid_auto_columns": null,
            "margin": null,
            "display": null,
            "left": null
          }
        },
        "c80c54e0c3854ad29781a2b8770e46e2": {
          "model_module": "@jupyter-widgets/controls",
          "model_name": "DescriptionStyleModel",
          "model_module_version": "1.5.0",
          "state": {
            "_view_name": "StyleView",
            "_model_name": "DescriptionStyleModel",
            "description_width": "",
            "_view_module": "@jupyter-widgets/base",
            "_model_module_version": "1.5.0",
            "_view_count": null,
            "_view_module_version": "1.2.0",
            "_model_module": "@jupyter-widgets/controls"
          }
        },
        "5aa3270eed4c44748dcf0fdabd923011": {
          "model_module": "@jupyter-widgets/base",
          "model_name": "LayoutModel",
          "model_module_version": "1.2.0",
          "state": {
            "_view_name": "LayoutView",
            "grid_template_rows": null,
            "right": null,
            "justify_content": null,
            "_view_module": "@jupyter-widgets/base",
            "overflow": null,
            "_model_module_version": "1.2.0",
            "_view_count": null,
            "flex_flow": null,
            "width": null,
            "min_width": null,
            "border": null,
            "align_items": null,
            "bottom": null,
            "_model_module": "@jupyter-widgets/base",
            "top": null,
            "grid_column": null,
            "overflow_y": null,
            "overflow_x": null,
            "grid_auto_flow": null,
            "grid_area": null,
            "grid_template_columns": null,
            "flex": null,
            "_model_name": "LayoutModel",
            "justify_items": null,
            "grid_row": null,
            "max_height": null,
            "align_content": null,
            "visibility": null,
            "align_self": null,
            "height": null,
            "min_height": null,
            "padding": null,
            "grid_auto_rows": null,
            "grid_gap": null,
            "max_width": null,
            "order": null,
            "_view_module_version": "1.2.0",
            "grid_template_areas": null,
            "object_position": null,
            "object_fit": null,
            "grid_auto_columns": null,
            "margin": null,
            "display": null,
            "left": null
          }
        }
      }
    }
  },
  "cells": [
    {
      "cell_type": "markdown",
      "metadata": {
        "id": "view-in-github",
        "colab_type": "text"
      },
      "source": [
        "<a href=\"https://colab.research.google.com/github/kiranvad/ComputationalTopology/blob/master/notebooks/colab/VAE.ipynb\" target=\"_parent\"><img src=\"https://colab.research.google.com/assets/colab-badge.svg\" alt=\"Open In Colab\"/></a>"
      ]
    },
    {
      "cell_type": "code",
      "metadata": {
        "id": "E2QJUaYpM4en"
      },
      "source": [
        "import numpy as np\n",
        "import matplotlib.pyplot as plt\n",
        "import seaborn as sns\n",
        "import matplotlib as mpl\n",
        "import warnings\n",
        "warnings.filterwarnings('ignore')\n",
        "np.random.seed(0)"
      ],
      "execution_count": 2,
      "outputs": []
    },
    {
      "cell_type": "code",
      "metadata": {
        "colab": {
          "base_uri": "https://localhost:8080/",
          "height": 279
        },
        "id": "F8UGVQfQM-nM",
        "outputId": "e0823de7-c5b5-48b0-96a4-b0e965c864a1"
      },
      "source": [
        "sampled_z = np.random.choice([0,1], size=1024)\n",
        "data = ((sampled_z + 1) % 2) * np.random.normal(size=sampled_z.shape, loc=-1, scale=0.5) + \\\n",
        "    sampled_z * np.random.normal(size=sampled_z.shape, loc=1, scale=0.25)\n",
        "nbins = 32\n",
        "_, bins = np.histogram(data, bins=nbins)\n",
        "class_data = np.apply_along_axis(lambda x: np.histogram(x, bins)[0], 1, data.reshape(-1, 1))\n",
        "nclasses = nbins\n",
        "\n",
        "plt.bar(np.arange(nclasses), height=np.sum(class_data, axis=0))\n",
        "plt.xlabel('Class Index')\n",
        "plt.ylabel('Frequency')\n",
        "plt.show()"
      ],
      "execution_count": 4,
      "outputs": [
        {
          "output_type": "display_data",
          "data": {
            "image/png": "[encoded data removed]",
            "text/plain": [
              "<Figure size 432x288 with 1 Axes>"
            ]
          },
          "metadata": {
            "needs_background": "light"
          }
        }
      ]
    },
    {
      "cell_type": "code",
      "metadata": {
        "colab": {
          "base_uri": "https://localhost:8080/"
        },
        "id": "DGz3jkBCNOWI",
        "outputId": "6084dce5-8f72-44b3-c3fd-406d352a897f"
      },
      "source": [
        "import jax.numpy as jnp\n",
        "import jax.experimental.optimizers as optimizers\n",
        "import jax\n",
        "import functools\n",
        "\n",
        "def random_vec(size):\n",
        "    return np.random.normal(size=size, scale=1)\n",
        "\n",
        "latent_dim = 1\n",
        "hidden_dim = 16\n",
        "input_dim = nclasses\n",
        "\n",
        "def encoder(x, theta):\n",
        "    '''The encoder takes as input x and gives out probability of z,\n",
        "       expressed as normal distribution parameters. Assuming each z dim is independent,\n",
        "       output |z| x 2 matrix'''\n",
        "    w1, w2, w3, b1, b2, b3 = theta\n",
        "    hx = jax.nn.relu(w1 @ x + b1)\n",
        "    hx = jax.nn.relu(w2 @ hx + b2)\n",
        "    out = w3 @ hx + b3\n",
        "    # slice out stddeviation and make it positive\n",
        "    reshaped = out.reshape((-1, 2))\n",
        "    # we slice with ':' to keep rank same\n",
        "    std = jax.nn.softplus(reshaped[:,1:])\n",
        "    mu = reshaped[:,0:1]    \n",
        "    return jnp.concatenate((mu, std), axis=1)\n",
        "    \n",
        "def init_theta(input_dim, hidden_units, latent_dim):\n",
        "    '''Create inital theta parameters'''\n",
        "    w1 = random_vec(size=(hidden_units, input_dim))\n",
        "    b1 = np.zeros(hidden_units)\n",
        "    w2 = random_vec(size=(hidden_units, hidden_units))\n",
        "    b2 = np.zeros(hidden_units)\n",
        "    # need to params per dim (mean, std)\n",
        "    w3 = random_vec(size=(latent_dim * 2, hidden_units))\n",
        "    b3 = np.zeros(latent_dim * 2)\n",
        "    return [w1, w2, w3, b1, b2, b3]\n",
        "\n",
        "# test them\n",
        "theta = init_theta(input_dim, hidden_dim, latent_dim)\n",
        "encoder(class_data[0], theta)"
      ],
      "execution_count": 5,
      "outputs": [
        {
          "output_type": "stream",
          "name": "stderr",
          "text": [
            "WARNING:absl:No GPU/TPU found, falling back to CPU. (Set TF_CPP_MIN_LOG_LEVEL=0 and rerun for more info.)\n"
          ]
        },
        {
          "output_type": "execute_result",
          "data": {
            "text/plain": [
              "DeviceArray([[0.67200387, 0.00897247]], dtype=float32)"
            ]
          },
          "metadata": {},
          "execution_count": 5
        }
      ]
    },
    {
      "cell_type": "code",
      "metadata": {
        "colab": {
          "base_uri": "https://localhost:8080/"
        },
        "id": "KqwmBTG3NXk3",
        "outputId": "2ddc216d-30e1-48db-f794-82dce0e26a33"
      },
      "source": [
        "def decoder(z, phi):\n",
        "    '''decoder takes as input the latant variable z and gives out probability of x.\n",
        "    Decoder outputes a real number, then we use softmax activation to get probability across\n",
        "    possible values of x. \n",
        "     '''\n",
        "    w1, w2, w3, b1, b2, b3 = phi\n",
        "    hz = jax.nn.relu(w1 @ z + b1)\n",
        "    hz = jax.nn.relu(w2 @ hz + b2)\n",
        "    out = jax.nn.softmax(w3 @ hz + b3)   \n",
        "    return out\n",
        "\n",
        "def init_phi(input_dim, hidden_units, latent_dim):\n",
        "    '''Create inital phi parameters'''\n",
        "    w1 = random_vec(size=(hidden_units, latent_dim))\n",
        "    b1 = np.zeros(hidden_units)\n",
        "    w2 = random_vec(size=(hidden_units, hidden_units))\n",
        "    b2 = np.zeros(hidden_units)\n",
        "    w3 = random_vec(size=(input_dim, hidden_units))\n",
        "    b3 = np.zeros(input_dim)\n",
        "    return [w1, w2, w3, b1, b2, b3]\n",
        "# test it out\n",
        "phi = init_phi(input_dim, hidden_dim, latent_dim)\n",
        "decoder(np.array([1.2] * latent_dim), phi)"
      ],
      "execution_count": 6,
      "outputs": [
        {
          "output_type": "execute_result",
          "data": {
            "text/plain": [
              "DeviceArray([1.4369683e-11, 2.8801292e-29, 3.2273541e-20, 7.1850895e-22,\n",
              "             1.0793007e-22, 2.8247908e-20, 8.5903684e-09, 5.0419994e-28,\n",
              "             3.8993281e-25, 1.9217204e-23, 1.3062071e-12, 2.6221546e-16,\n",
              "             4.2119552e-23, 1.1967079e-20, 4.3358453e-27, 3.8699083e-20,\n",
              "             1.3168897e-22, 3.3939088e-20, 5.1175348e-27, 3.9091000e-24,\n",
              "             1.0000000e+00, 1.6622006e-19, 2.5878642e-29, 3.6575650e-17,\n",
              "             5.0655268e-25, 3.9531148e-23, 5.9112239e-20, 3.3607102e-19,\n",
              "             6.1983621e-12, 2.7988031e-19, 9.9489904e-13, 3.6622517e-27],            dtype=float32)"
            ]
          },
          "metadata": {},
          "execution_count": 6
        }
      ]
    },
    {
      "cell_type": "code",
      "metadata": {
        "id": "GcmH_8GYNcSq"
      },
      "source": [
        "@jax.jit\n",
        "def loss(x, theta, phi, rng_key):\n",
        "    '''VAE Loss'''\n",
        "    # reconstruction loss\n",
        "    sampled_z_params = encoder(x, theta)\n",
        "    # reparameterization trick\n",
        "    # we use standard normal sample and multiply by parameters\n",
        "    # to ensure derivatives correctly propogate to encoder\n",
        "    sampled_z = jax.random.normal(rng_key, shape=(latent_dim,)) * sampled_z_params[:, 1] + sampled_z_params[:, 0]\n",
        "    # log of prob\n",
        "    rloss = -jnp.log(decoder(sampled_z, phi) @ x.T + 1e-8)\n",
        "    # LK loss\n",
        "    klloss = -0.5 - jnp.log(sampled_z_params[:, 1]) + 0.5 * sampled_z_params[:,0]**2 + 0.5 * sampled_z_params[:,1]**2    \n",
        "    # combined    \n",
        "    return jnp.array([rloss, jnp.mean(klloss)])\n",
        "# test it out\n",
        "loss(class_data[0], theta, phi, jax.random.PRNGKey(0))\n",
        "\n",
        "batched_loss = jax.vmap(loss, in_axes=(0, None, None, None), out_axes=0)\n",
        "batched_decoder = jax.vmap(decoder, in_axes=(0,None), out_axes=0)\n",
        "batched_encoder = jax.vmap(encoder, in_axes=(0,None), out_axes=0)\n",
        "\n",
        "# test batched loss\n",
        "batched_loss(class_data[:4], theta, phi, jax.random.PRNGKey(0))\n",
        "\n",
        "grad = jax.grad(lambda x, theta, phi, rng_key: jnp.mean(batched_loss(x, theta, phi, rng_key)), (1, 2))\n",
        "fast_grad = jax.jit(grad)\n",
        "fast_loss = jax.jit(batched_loss)"
      ],
      "execution_count": 7,
      "outputs": []
    },
    {
      "cell_type": "code",
      "metadata": {
        "colab": {
          "base_uri": "https://localhost:8080/",
          "height": 49,
          "referenced_widgets": [
            "2493e72ada2446b682816ea96eed0be5",
            "f808831f5cb4455ea2789bf67c185300",
            "48d52a7d51a94808a3d4a524f61e1fef",
            "a843a866c5bf49298b0f3f6bf7501b3c",
            "11ca7a8df8594ee184584217303e20f9",
            "d62218cbc8ac4ca6984b794ccf444005",
            "3966e852ec4d4b70973b31ffe04129f0",
            "9f4aca8f425c422b8ff8ce9eb27d640b",
            "c2d248e25fc94bf79b5ec92fa17d101a",
            "c80c54e0c3854ad29781a2b8770e46e2",
            "5aa3270eed4c44748dcf0fdabd923011"
          ]
        },
        "id": "U-cZqArwNlXI",
        "outputId": "a790abb5-a48b-43a8-ccc8-5476dbbeabad"
      },
      "source": [
        "from tqdm.auto import tqdm\n",
        "\n",
        "batch_size = 32\n",
        "epochs = 16\n",
        "\n",
        "key = jax.random.PRNGKey(0)\n",
        "opt_init, opt_update, get_params = optimizers.adam(step_size=1e-1)    \n",
        "theta0 = init_theta(input_dim, hidden_dim, latent_dim)\n",
        "phi0 = init_phi(input_dim, hidden_dim, latent_dim)\n",
        "opt_state = opt_init((theta0, phi0))\n",
        "losses = []\n",
        "for e in tqdm(range(epochs)):\n",
        "    for bi,i in enumerate(range(0, len(data), batch_size)):\n",
        "        # make a batch into shape B x 1\n",
        "        batch = class_data[i:(i + batch_size)]\n",
        "        # udpate random number key\n",
        "        key, subkey = jax.random.split(key)\n",
        "        # get current parameter values from optimizer\n",
        "        theta, phi = get_params(opt_state)\n",
        "        last_state = opt_state\n",
        "        # compute gradient and update\n",
        "        grad = fast_grad(batch, theta, phi, key)    \n",
        "        opt_state = opt_update(bi, grad, opt_state)\n",
        "        lvalue = jnp.mean(fast_loss(batch, theta, phi, subkey), axis=0)\n",
        "        losses.append(lvalue)"
      ],
      "execution_count": 9,
      "outputs": [
        {
          "output_type": "display_data",
          "data": {
            "application/vnd.jupyter.widget-view+json": {
              "model_id": "2493e72ada2446b682816ea96eed0be5",
              "version_minor": 0,
              "version_major": 2
            },
            "text/plain": [
              "  0%|          | 0/16 [00:00<?, ?it/s]"
            ]
          },
          "metadata": {}
        }
      ]
    },
    {
      "cell_type": "code",
      "metadata": {
        "colab": {
          "base_uri": "https://localhost:8080/",
          "height": 279
        },
        "id": "lW397JOKNtHt",
        "outputId": "8c9cbe8b-bf84-4ca2-8290-ddc51e19256a"
      },
      "source": [
        "plt.plot([l[0] for l in losses], label='Reconstruction')\n",
        "plt.plot([l[1] for l in losses], label='KL')\n",
        "plt.plot([l[1] + l[0] for l in losses], label='ELBO')\n",
        "plt.legend()\n",
        "plt.ylim(-5, 5)\n",
        "plt.xlabel('epoch')\n",
        "plt.ylabel('loss')\n",
        "plt.show()"
      ],
      "execution_count": 10,
      "outputs": [
        {
          "output_type": "display_data",
          "data": {
            "image/png": "[encoded data removed]",
            "text/plain": [
              "<Figure size 432x288 with 1 Axes>"
            ]
          },
          "metadata": {
            "needs_background": "light"
          }
        }
      ]
    },
    {
      "cell_type": "code",
      "metadata": {
        "colab": {
          "base_uri": "https://localhost:8080/",
          "height": 297
        },
        "id": "7M2WwbbhPejx",
        "outputId": "167b700a-5a68-4119-e4f9-3591a0b61385"
      },
      "source": [
        "zs = np.random.normal(size=(1024, 1))\n",
        "sampled_x = batched_decoder(zs, phi)\n",
        "fig, axs = plt.subplots(ncols=2, figsize=(8,4))\n",
        "axs[0].set_title('Training Data')\n",
        "axs[0].bar(np.arange(nbins), height=np.sum(class_data, axis=0))\n",
        "axs[0].set_xlabel('Class Index')\n",
        "axs[0].set_ylabel('Frequency')\n",
        "axs[1].set_title('VAE Samples')\n",
        "axs[1].bar(np.arange(nbins), height=np.sum(sampled_x, axis=0))\n",
        "axs[1].set_xlabel('Class Index')\n",
        "plt.tight_layout()\n",
        "plt.show()"
      ],
      "execution_count": 11,
      "outputs": [
        {
          "output_type": "display_data",
          "data": {
            "image/png": "[encoded data removed]",
            "text/plain": [
              "<Figure size 576x288 with 2 Axes>"
            ]
          },
          "metadata": {
            "needs_background": "light"
          }
        }
      ]
    }
  ]
}
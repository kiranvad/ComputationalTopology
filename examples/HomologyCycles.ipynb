{
 "cells": [
  {
   "cell_type": "markdown",
   "metadata": {},
   "source": [
    "# Undesrtanding A Pesistence Homology Matrix\n",
    "In this example, we will look at a reduced matrix of smith normal form to understand the births and deaths of cycles in persistence homology computation. Large part of this example is a commentary of the following thread on dionysus [forum.](https://groups.io/g/dionysus/topic/representatives_of_bars/32216531?p=,,,20,0,0,0::recentpostdate%2Fsticky,,,20,2,0,32216531)\n",
    "\n",
    "This tutorial requires successful installation of dionysus2 and a decent understanding of homology groups, cycles and boundaries. We use Vietoris-Rips simplicial complex formation for filtration."
   ]
  },
  {
   "cell_type": "code",
   "execution_count": 1,
   "metadata": {},
   "outputs": [],
   "source": [
    "import dionysus as dion\n",
    "import numpy as np\n",
    "import matplotlib.pyplot as plt\n",
    "import matplotlib as mpl"
   ]
  },
  {
   "cell_type": "code",
   "execution_count": 2,
   "metadata": {},
   "outputs": [
    {
     "name": "stdout",
     "output_type": "stream",
     "text": [
      "[[-1.  1.]\n",
      " [-1. -1.]\n",
      " [ 1. -1.]\n",
      " [ 1.  1.]]\n"
     ]
    }
   ],
   "source": [
    "# First create a square as our data set\n",
    "A = []\n",
    "for i in [-1,1]:\n",
    "    for j in [-1, 1]:\n",
    "        cv = [i, i]\n",
    "        cv[1] *= j\n",
    "        A.append(cv)\n",
    "A = np.array(A, float)\n",
    "print(A)"
   ]
  },
  {
   "cell_type": "code",
   "execution_count": 3,
   "metadata": {},
   "outputs": [
    {
     "name": "stdout",
     "output_type": "stream",
     "text": [
      "Filtration with 15 simplices\n",
      "<0> 0\n",
      "<1> 0\n",
      "<2> 0\n",
      "<3> 0\n",
      "<0,1> 2\n",
      "<0,3> 2\n",
      "<1,2> 2\n",
      "<2,3> 2\n",
      "<0,2> 2.82843\n",
      "<1,3> 2.82843\n",
      "<0,1,2> 2.82843\n",
      "<0,1,3> 2.82843\n",
      "<0,2,3> 2.82843\n",
      "<1,2,3> 2.82843\n",
      "<0,1,2,3> 2.82843\n"
     ]
    }
   ],
   "source": [
    "# Compute relevant VR complex using dionysus Rips function\n",
    "filtration = dion.fill_rips(A, 3, 3.0)\n",
    "print(filtration)\n",
    "for simplex in filtration:\n",
    "    print(simplex)"
   ]
  },
  {
   "cell_type": "markdown",
   "metadata": {},
   "source": [
    "Now we compute a persistence homology and express each filtration interms of its birth and death time.\n",
    "\n",
    "Following rules are used to read off the persistence diagram printed below:\n",
    "1. We use the colon operator to differentiate stuff that is happening before and after the addition of a particular simplex\n",
    "2. Items printed after the colon indicate the `cycles` that were zero before the addition of `simplex` printed before the colon\n",
    "\n",
    "Now let us look at the homology reduce matrix to understanding the `birth` and `deaths` of cycles.\n",
    "\n",
    "Following will serve as a basic introduction to a homology group:\n",
    "1. A `p-chain` is a formal sum of `p-simplicies` in a simplicial complex with coeffients in any field\n",
    "2. Boundary of any p-simplex is a sum of (p-1)-dimensional faces\n",
    "3. A `p-cycle` is a p-chain with empty boundary.\n",
    "4. A group of p-cycles is the kernel of pth boundary homomorphisms $Z_p = Ker (\\delta_p)$. For example, a 0-cycle is a collection of vertices because boundary of each vertex is zero. Equivalently, for any simplex, 0-cycle is complete set of vertices.\n",
    "5. A `pth-homology group` is pth-cycle group modulo p-th boundary groupn $H_p = Z_p / B_p$ where $B_p$ is pth-boundary group"
   ]
  },
  {
   "cell_type": "code",
   "execution_count": 4,
   "metadata": {},
   "outputs": [
    {
     "name": "stdout",
     "output_type": "stream",
     "text": [
      "<0> 0: \n",
      "<1> 0: \n",
      "<2> 0: \n",
      "<3> 0: \n",
      "<0,1> 2: 1 * <0> 0 + 1 * <1> 0\n",
      "<0,3> 2: 1 * <0> 0 + 1 * <3> 0\n",
      "<1,2> 2: 1 * <1> 0 + 1 * <2> 0\n",
      "<2,3> 2: \n",
      "<0,2> 2.82843: \n",
      "<1,3> 2.82843: \n",
      "<0,1,2> 2.82843: 1 * <0,1> 2 + 1 * <1,2> 2 + 1 * <0,2> 2.82843\n",
      "<0,1,3> 2.82843: 1 * <0,1> 2 + 1 * <0,3> 2 + 1 * <1,3> 2.82843\n",
      "<0,2,3> 2.82843: 1 * <0,1> 2 + 1 * <0,3> 2 + 1 * <1,2> 2 + 1 * <2,3> 2\n",
      "<1,2,3> 2.82843: \n",
      "<0,1,2,3> 2.82843: 1 * <0,1,2> 2.82843 + 1 * <0,1,3> 2.82843 + 1 * <0,2,3> 2.82843 + 1 * <1,2,3> 2.82843\n"
     ]
    }
   ],
   "source": [
    "# compute persistent homology\n",
    "hfp = dion.homology_persistence(filtration)\n",
    " \n",
    "for i,c in enumerate(hfp):\n",
    "    print(filtration[i],end=': ')\n",
    "    print(\" + \".join([\"%d * %s\" % (x.element, filtration[x.index]) for x in c]))"
   ]
  },
  {
   "cell_type": "markdown",
   "metadata": {},
   "source": [
    "Let us now look at sections of the printed reduced boundary matrix:\n",
    "```\n",
    "<0> 0: \n",
    "<1> 0: \n",
    "<2> 0: \n",
    "<3> 0:\n",
    "```\n",
    "Meaning of the above section is that, at $\\ell=0$, four `vertices` are created and the all act as `0-cycles`.\n",
    "\n",
    "```\n",
    "<0,1> 2: 1 * <0> 0 + 1 * <1> 0\n",
    "<0,3> 2: 1 * <0> 0 + 1 * <3> 0\n",
    "<1,2> 2: 1 * <1> 0 + 1 * <2> 0\n",
    "<2,3> 2: \n",
    "<0,2> 2.82843: \n",
    "<1,3> 2.82843:\n",
    "```\n",
    "This section contains addition of all the `1-simplices` which are in plain english can be thought of as edges. We can read the following from the above:\n",
    "1. `<0,1>` gets added a $\\ell=2$ and it `kills(death of )` the following simplices printed after the colon `<0>, <1>`. Similarily for others. \n",
    "2. You can also read that for addition of `<0,1>` edge occurs at $\\ell=2$ and it kills `0-cycles` which are born at $\\ell=0$. Thus this will be shown as a bar with an interval $\\ell \\in [0,2)$\n",
    "3. Simplcies `<2,3>` addition form a `1-cycle` at $\\ell=2.0$ and simplicies `<0,2>,<1,3>` are born at $\\ell=2\\sqrt(2)$ and all form `1-cycles`\n",
    "\n",
    "In particular, addition of the above simplcies at $\\ell=2$ resulted in the death of **four** `0-cycles` created at $\\ell=0$. \n",
    "\n",
    "==> 4 bars of the interval  $\\ell \\in [0,2)$ for $H_0$\n",
    "\n",
    "```\n",
    "<0,1,2> 2.82843: 1 * <0,1> 2 + 1 * <1,2> 2 + 1 * <0,2> 2.82843\n",
    "<0,1,3> 2.82843: 1 * <0,1> 2 + 1 * <0,3> 2 + 1 * <1,3> 2.82843\n",
    "<0,2,3> 2.82843: 1 * <0,1> 2 + 1 * <0,3> 2 + 1 * <1,2> 2 + 1 * <2,3> 2\n",
    "<1,2,3> 2.82843:\n",
    "```\n",
    "Above reading can be extended to the higher order simplcies and they tell us that `<0,1,2>, <0,1,3>, <0,2,3>` all kill are born and killed at the same time i.e. $\\ell=2\\sqrt(2)$.\n",
    "\n",
    "However, simplex `<0,2,3>` has a bar length of $\\ell \\in [2,2\\sqrt(2))$ as can be read from stuff before and after colon. This reprsents a `1-cycle` which is born at the addition of simplex `<2,3>` at $\\ell=2$ and is dead after the addition of `<0,2,3>` at $\\ell=2\\sqrt(2)$. \n",
    "\n",
    "==> Thus the bar representing a `1-cycle` $\\ell \\in [2,2\\sqrt(2))$ for $H_1$.\n",
    "\n"
   ]
  },
  {
   "cell_type": "code",
   "execution_count": 5,
   "metadata": {},
   "outputs": [
    {
     "data": {
      "image/png": "[encoded data removed]",
      "text/plain": [
       "<Figure size 1800x1200 with 1 Axes>"
      ]
     },
     "metadata": {
      "needs_background": "light"
     },
     "output_type": "display_data"
    }
   ],
   "source": [
    "# Plot the barcode\n",
    "dgms = dion.init_diagrams(hfp, filtration)\n",
    "%matplotlib inline\n",
    "mpl.rcParams['figure.dpi']=300\n",
    "dion.plot.plot_bars(dgms[0], show = False)\n",
    "plt.yticks([])\n",
    "plt.show()"
   ]
  },
  {
   "cell_type": "markdown",
   "metadata": {},
   "source": [
    "We now verify our computation of persistence diagram from the reduced matrix using the dionysus computation."
   ]
  },
  {
   "cell_type": "code",
   "execution_count": 6,
   "metadata": {},
   "outputs": [
    {
     "data": {
      "text/plain": [
       "Diagram with 4 points"
      ]
     },
     "execution_count": 6,
     "metadata": {},
     "output_type": "execute_result"
    }
   ],
   "source": [
    "dgms[0]"
   ]
  },
  {
   "cell_type": "markdown",
   "metadata": {},
   "source": [
    "One of the primary usage of understanding cycles is that you can obtain representative of the bars or points in the persistence diagrams. As showcased in another example using dual component of Homology, the representative cycles can be used find richer representations of the data set. In the following, we showcase how we compute representative 0-cycles to obtain a approximation for the connected components."
   ]
  },
  {
   "cell_type": "code",
   "execution_count": 7,
   "metadata": {},
   "outputs": [
    {
     "name": "stdout",
     "output_type": "stream",
     "text": [
      "Dimension : Simplex vertices\n",
      "1: 0 1 a bar \n",
      "\n",
      "1: 0 3 a bar \n",
      "\n",
      "1: 1 2 a bar \n",
      "\n",
      "2: 0 1 1 2 0 2 no bar \n",
      "\n",
      "2: 0 1 0 3 1 3 no bar \n",
      "\n",
      "2: 0 1 0 3 1 2 2 3 a bar \n",
      "\n",
      "3: 0 1 2 0 1 3 0 2 3 1 2 3 no bar \n",
      "\n"
     ]
    }
   ],
   "source": [
    "print(\"Dimension : Simplex vertices\")\n",
    "\n",
    "repcycles = []\n",
    "for i,c in enumerate(hfp):\n",
    "    if len(c)>0:\n",
    "        #print(filtration[i],end=': ')\n",
    "        print(filtration[i].dimension(), end=': ')\n",
    "        birth = filtration[i].data\n",
    "        deaths =[]\n",
    "        vertices = []\n",
    "        for x in c:\n",
    "            simplex = filtration[x.index]\n",
    "            deaths.append(filtration[x.index].data)\n",
    "            for s in simplex:\n",
    "                print(s, end=' ')\n",
    "                vertices.append(s)\n",
    "        death = np.max(np.unique(np.asarray(deaths)))\n",
    "        vertices = np.unique(np.asarray(vertices))\n",
    "        vertices = np.append(vertices,[filtration[i].dimension(), birth, death])\n",
    "#         print(birth-death,'\\n')\n",
    "        if birth-death>0.0:\n",
    "            print('a bar \\n')\n",
    "            repcycles.append(vertices)\n",
    "        else:\n",
    "            print('no bar \\n')\n",
    "        # print(\" + \".join([\"%d * %s\" % (x.element, filtration[x.index]) for x in c]))"
   ]
  },
  {
   "cell_type": "code",
   "execution_count": 8,
   "metadata": {},
   "outputs": [],
   "source": [
    "def FindRepresentativeCycles(HomPer, thresh=0.0):\n",
    "    '''\n",
    "    This function can be used to collect representative cycles of the bars in a persistence\n",
    "    diagram.\n",
    "    This function takes a homology persistence class from dionysus as a input along with\n",
    "    an optional threshold value in terms of the lifetime of the bar.\n",
    "    The output is a numpy array of representative cycles. Each row in the array is one cycle per bar,\n",
    "    with last three columns of each row reprsenting: dimension, birth and death of the cycle.\n",
    "    Rest of the columns in the array are vertices in the cycle.\n",
    "    \n",
    "    All the dimensional cycles in the homology persistence are computed by default.\n",
    "    '''\n",
    "    repcycles = []\n",
    "    for i,c in enumerate(hfp):\n",
    "        if len(c)>0:\n",
    "            birth = filtration[i].data \n",
    "            deaths =[]\n",
    "            vertices = []\n",
    "            for x in c:\n",
    "                simplex = filtration[x.index]\n",
    "                deaths.append(filtration[x.index].data)\n",
    "                for s in simplex:\n",
    "                    vertices.append(s)\n",
    "            death = np.max(np.unique(np.asarray(deaths)))\n",
    "            vertices = np.unique(np.asarray(vertices))\n",
    "            vertices = np.append(vertices,[filtration[i].dimension(), birth, death])\n",
    "            if birth-death>thresh:\n",
    "                repcycles.append(vertices)\n",
    "    return repcycles"
   ]
  },
  {
   "cell_type": "code",
   "execution_count": 9,
   "metadata": {},
   "outputs": [
    {
     "data": {
      "text/plain": [
       "[array([0., 1., 1., 2., 0.]),\n",
       " array([0., 3., 1., 2., 0.]),\n",
       " array([1., 2., 1., 2., 0.])]"
      ]
     },
     "execution_count": 9,
     "metadata": {},
     "output_type": "execute_result"
    }
   ],
   "source": [
    "FindRepresentativeCycles(hfp, thresh=1.0)"
   ]
  },
  {
   "cell_type": "markdown",
   "metadata": {},
   "source": [
    "Above printed array is a collection of vertices (or data points) that contribute to each bar in the persistence bar code."
   ]
  }
 ],
 "metadata": {
  "kernelspec": {
   "display_name": "Python 3",
   "language": "python",
   "name": "python3"
  },
  "language_info": {
   "codemirror_mode": {
    "name": "ipython",
    "version": 3
   },
   "file_extension": ".py",
   "mimetype": "text/x-python",
   "name": "python",
   "nbconvert_exporter": "python",
   "pygments_lexer": "ipython3",
   "version": "3.7.3"
  }
 },
 "nbformat": 4,
 "nbformat_minor": 2
}
